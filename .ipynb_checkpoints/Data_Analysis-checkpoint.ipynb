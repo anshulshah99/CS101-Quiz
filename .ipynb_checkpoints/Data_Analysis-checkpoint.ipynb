{
 "cells": [
  {
   "cell_type": "code",
   "execution_count": 85,
   "metadata": {},
   "outputs": [],
   "source": [
    "from datetime import datetime\n",
    "from datetime import timedelta\n",
    "import matplotlib.pyplot as plt"
   ]
  },
  {
   "cell_type": "code",
   "execution_count": 65,
   "metadata": {},
   "outputs": [],
   "source": [
    "def get_data():\n",
    "    f = open(\"data.txt\")\n",
    "    all_data = []\n",
    "    for l in f:\n",
    "        vals = [x.strip() for x in l.split('|')]\n",
    "        all_data.append(vals)\n",
    "    return all_data"
   ]
  },
  {
   "cell_type": "code",
   "execution_count": 66,
   "metadata": {
    "scrolled": true
   },
   "outputs": [],
   "source": [
    "d = get_data()[2:]"
   ]
  },
  {
   "cell_type": "code",
   "execution_count": 67,
   "metadata": {},
   "outputs": [],
   "source": [
    "class Quiz:\n",
    "    def __init__(self):\n",
    "        self.name = ''\n",
    "        self.time = ''\n",
    "        self.concepts = []\n",
    "        self.corr_ques = 0\n",
    "        self.num_ques = 0"
   ]
  },
  {
   "cell_type": "code",
   "execution_count": 68,
   "metadata": {},
   "outputs": [],
   "source": [
    "class Session:\n",
    "    def __init__(self):\n",
    "        self.name = ''\n",
    "        self.quizzes = []\n",
    "    "
   ]
  },
  {
   "cell_type": "code",
   "execution_count": 69,
   "metadata": {},
   "outputs": [],
   "source": [
    "curr_quiz = Quiz()\n",
    "quizzes = []\n",
    "first = True\n",
    "for row in d:\n",
    "    if curr_quiz.name != row[0] or curr_quiz.time != row[3]:\n",
    "        if first:\n",
    "            first = False\n",
    "        else:\n",
    "            quizzes.append(curr_quiz)\n",
    "        curr_quiz = Quiz()\n",
    "        curr_quiz.name = row[0]\n",
    "        curr_quiz.time = row[3]\n",
    "    curr_quiz.concepts.append((row[1], row[2]))\n",
    "    curr_quiz.corr_ques += int(row[4])\n",
    "    curr_quiz.num_ques += int(row[5])"
   ]
  },
  {
   "cell_type": "code",
   "execution_count": 122,
   "metadata": {},
   "outputs": [
    {
     "name": "stdout",
     "output_type": "stream",
     "text": [
      "Total number of sessions: 251\n"
     ]
    }
   ],
   "source": [
    "first = True\n",
    "sessions = []\n",
    "for q in quizzes:\n",
    "    if first:\n",
    "        first = False\n",
    "        curr_sess = Session()\n",
    "        curr_sess.name = q.name\n",
    "        continue\n",
    "    if (q.name != curr_sess.name) or timedelta(datetime.strptime(q.time, '%m/%d/%Y %H:%M:%S') - datetime.strptime(curr_sess.quizzes[-1].time, '%m/%d/%Y %H:%M:%S') > timedelta(minutes = 15)):\n",
    "        sessions.append(curr_sess)\n",
    "        curr_sess = Session()\n",
    "        curr_sess.name = q.name\n",
    "    curr_sess.quizzes.append(q)\n",
    "sessions = sessions[1:]\n",
    "print(\"Total number of sessions:\", len(sessions))\n"
   ]
  },
  {
   "cell_type": "code",
   "execution_count": 86,
   "metadata": {},
   "outputs": [
    {
     "name": "stdout",
     "output_type": "stream",
     "text": [
      "Total number of quizzes: 615\n",
      "Number of sessions: 252\n",
      "Number of sessions with 2 or more quizzes: 101\n",
      "Average number of quizzes in sessions with >= 2 quizzes: 6.03960396039604\n",
      "Number of sessions with 1 quiz: 150\n"
     ]
    }
   ],
   "source": [
    "count = 0\n",
    "t = 0\n",
    "length_long_sessions = []\n",
    "for s in sessions:\n",
    "    if len([q.time for q in s.quizzes]) > 1:\n",
    "        count += 1\n",
    "        length_long_sessions.append(len(s.quizzes))\n",
    "    if len([q.time for q in s.quizzes]) == 1:\n",
    "        t += 1\n",
    "        #print(s.quizzes[0].num_ques)\n",
    "print(\"Total number of quizzes:\", len(quizzes))\n",
    "print(\"Number of sessions:\", len(sessions))\n",
    "print(\"Number of sessions with 2 or more quizzes:\", count)\n",
    "print(\"Average number of quizzes in sessions with >= 2 quizzes:\", sum([len(s.quizzes) for s in sessions])/count)\n",
    "print(\"Number of sessions with 1 quiz:\", t)\n",
    "    #print(s.name, [q.time for q in s.quizzes])"
   ]
  },
  {
   "cell_type": "code",
   "execution_count": 106,
   "metadata": {},
   "outputs": [
    {
     "data": {
      "image/png": "[encoded data removed]",
      "text/plain": [
       "<Figure size 720x360 with 1 Axes>"
      ]
     },
     "metadata": {
      "needs_background": "light"
     },
     "output_type": "display_data"
    }
   ],
   "source": [
    "x = sorted(set(length_long_sessions))\n",
    "x = x[:-1]\n",
    "y = [length_long_sessions.count(i) for i in x]\n",
    "plt.figure(figsize=(10,5))\n",
    "plt.bar(x, y, tick_label = x)\n",
    "plt.xlabel(\"Number of quizzes\", fontsize = 14)\n",
    "plt.ylabel(\"Amount\", fontsize = 14)\n",
    "plt.title(\"Distribution of number of quizzes for sessions with 2 or more quizzes\", fontsize = 14)\n",
    "plt.show()                                       "
   ]
  },
  {
   "cell_type": "code",
   "execution_count": 121,
   "metadata": {},
   "outputs": [
    {
     "name": "stdout",
     "output_type": "stream",
     "text": [
      "Average score on first quiz: 0.8109562828818788\n",
      "Average score on last quiz: 0.8415863300604376\n"
     ]
    }
   ],
   "source": [
    "before = []\n",
    "after = []\n",
    "for s in sessions:\n",
    "    before.append(s.quizzes[0].corr_ques/s.quizzes[0].num_ques)\n",
    "    after.append(s.quizzes[-1].corr_ques/s.quizzes[-1].num_ques)\n",
    "print(\"Average score on first quiz:\",sum(before)/len(before))\n",
    "print(\"Average score on last quiz:\", sum(after)/len(after))\n"
   ]
  },
  {
   "cell_type": "code",
   "execution_count": 132,
   "metadata": {
    "scrolled": true
   },
   "outputs": [
    {
     "name": "stdout",
     "output_type": "stream",
     "text": [
      "Number of quizzes without interleaving: 367\n",
      "Number of quizzes with interleaving: 248\n",
      "Average number of concepts when using interleaving: 5.455645161290323\n"
     ]
    }
   ],
   "source": [
    "two_conc = []\n",
    "one_conc = []\n",
    "for q in quizzes:\n",
    "    \n",
    "    if len(q.concepts) > 1:\n",
    "        two_conc.append(q)\n",
    "    else:\n",
    "        one_conc.append(q)\n",
    "\n",
    "print(\"Number of quizzes without interleaving:\", len(one_conc))\n",
    "print(\"Number of quizzes with interleaving:\", len(two_conc))\n",
    "total = 0\n",
    "for q in two_conc:\n",
    "    total += len(q.concepts)\n",
    "print(\"Average number of concepts when using interleaving:\", total/len(two_conc))"
   ]
  },
  {
   "cell_type": "code",
   "execution_count": 135,
   "metadata": {},
   "outputs": [
    {
     "data": {
      "image/png": "[encoded data removed]",
      "text/plain": [
       "<Figure size 720x360 with 1 Axes>"
      ]
     },
     "metadata": {
      "needs_background": "light"
     },
     "output_type": "display_data"
    }
   ],
   "source": [
    "num_conc = []\n",
    "for q in two_conc:\n",
    "    num_conc.append(len(q.concepts))\n",
    "x = sorted(set(num_conc))\n",
    "y = [num_conc.count(i) for i in x]\n",
    "plt.figure(figsize=(10,5))\n",
    "plt.bar(x, y, tick_label = x)\n",
    "plt.xlabel(\"Number of quizzes\", fontsize = 14)\n",
    "plt.ylabel(\"Amount\", fontsize = 14)\n",
    "plt.title(\"Distribution of number of quizzes for sessions with 2 or more quizzes\", fontsize = 14)\n",
    "plt.show()                    "
   ]
  },
  {
   "cell_type": "code",
   "execution_count": 136,
   "metadata": {},
   "outputs": [
    {
     "ename": "AttributeError",
     "evalue": "'Quiz' object has no attribute 'quizzes'",
     "output_type": "error",
     "traceback": [
      "\u001b[0;31m---------------------------------------------------------------------------\u001b[0m",
      "\u001b[0;31mAttributeError\u001b[0m                            Traceback (most recent call last)",
      "\u001b[0;32m<ipython-input-136-77ccb4f6acfc>\u001b[0m in \u001b[0;36m<module>\u001b[0;34m\u001b[0m\n\u001b[1;32m      1\u001b[0m \u001b[0mfinal_score\u001b[0m \u001b[0;34m=\u001b[0m \u001b[0;34m[\u001b[0m\u001b[0;34m]\u001b[0m\u001b[0;34m\u001b[0m\u001b[0;34m\u001b[0m\u001b[0m\n\u001b[1;32m      2\u001b[0m \u001b[0;32mfor\u001b[0m \u001b[0ms\u001b[0m \u001b[0;32min\u001b[0m \u001b[0mtwo_conc\u001b[0m\u001b[0;34m:\u001b[0m\u001b[0;34m\u001b[0m\u001b[0;34m\u001b[0m\u001b[0m\n\u001b[0;32m----> 3\u001b[0;31m     \u001b[0mfinal_score\u001b[0m\u001b[0;34m.\u001b[0m\u001b[0mappend\u001b[0m\u001b[0;34m(\u001b[0m\u001b[0ms\u001b[0m\u001b[0;34m.\u001b[0m\u001b[0mquizzes\u001b[0m\u001b[0;34m[\u001b[0m\u001b[0;34m-\u001b[0m\u001b[0;36m1\u001b[0m\u001b[0;34m]\u001b[0m\u001b[0;34m)\u001b[0m\u001b[0;34m\u001b[0m\u001b[0;34m\u001b[0m\u001b[0m\n\u001b[0m\u001b[1;32m      4\u001b[0m \u001b[0mprint\u001b[0m\u001b[0;34m(\u001b[0m\u001b[0msum\u001b[0m\u001b[0;34m(\u001b[0m\u001b[0mfinal_score\u001b[0m\u001b[0;34m/\u001b[0m\u001b[0mlen_final_score\u001b[0m\u001b[0;34m)\u001b[0m\u001b[0;34m)\u001b[0m\u001b[0;34m\u001b[0m\u001b[0;34m\u001b[0m\u001b[0m\n",
      "\u001b[0;31mAttributeError\u001b[0m: 'Quiz' object has no attribute 'quizzes'"
     ]
    }
   ],
   "source": [
    "final_score = []\n",
    "for q in two_conc:\n",
    "    final_score.append(q.corr_ques/q.num_ques)\n",
    "print(sum(final_score/len_final_score))"
   ]
  }
 ],
 "metadata": {
  "kernelspec": {
   "display_name": "Python 3",
   "language": "python",
   "name": "python3"
  },
  "language_info": {
   "codemirror_mode": {
    "name": "ipython",
    "version": 3
   },
   "file_extension": ".py",
   "mimetype": "text/x-python",
   "name": "python",
   "nbconvert_exporter": "python",
   "pygments_lexer": "ipython3",
   "version": "3.7.4"
  }
 },
 "nbformat": 4,
 "nbformat_minor": 2
}
